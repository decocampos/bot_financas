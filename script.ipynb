{
 "cells": [
  {
   "cell_type": "code",
   "execution_count": 2,
   "metadata": {},
   "outputs": [
    {
     "name": "stdout",
     "output_type": "stream",
     "text": [
      "Requirement already satisfied: selenium in c:\\users\\user\\appdata\\local\\packages\\pythonsoftwarefoundation.python.3.11_qbz5n2kfra8p0\\localcache\\local-packages\\python311\\site-packages (4.8.3)\n",
      "Requirement already satisfied: urllib3[socks]~=1.26 in c:\\users\\user\\appdata\\local\\packages\\pythonsoftwarefoundation.python.3.11_qbz5n2kfra8p0\\localcache\\local-packages\\python311\\site-packages (from selenium) (1.26.15)\n",
      "Requirement already satisfied: trio~=0.17 in c:\\users\\user\\appdata\\local\\packages\\pythonsoftwarefoundation.python.3.11_qbz5n2kfra8p0\\localcache\\local-packages\\python311\\site-packages (from selenium) (0.22.0)\n",
      "Requirement already satisfied: trio-websocket~=0.9 in c:\\users\\user\\appdata\\local\\packages\\pythonsoftwarefoundation.python.3.11_qbz5n2kfra8p0\\localcache\\local-packages\\python311\\site-packages (from selenium) (0.10.2)\n",
      "Requirement already satisfied: certifi>=2021.10.8 in c:\\users\\user\\appdata\\local\\packages\\pythonsoftwarefoundation.python.3.11_qbz5n2kfra8p0\\localcache\\local-packages\\python311\\site-packages (from selenium) (2022.12.7)\n",
      "Requirement already satisfied: attrs>=19.2.0 in c:\\users\\user\\appdata\\local\\packages\\pythonsoftwarefoundation.python.3.11_qbz5n2kfra8p0\\localcache\\local-packages\\python311\\site-packages (from trio~=0.17->selenium) (22.2.0)\n",
      "Requirement already satisfied: sortedcontainers in c:\\users\\user\\appdata\\local\\packages\\pythonsoftwarefoundation.python.3.11_qbz5n2kfra8p0\\localcache\\local-packages\\python311\\site-packages (from trio~=0.17->selenium) (2.4.0)\n",
      "Requirement already satisfied: async-generator>=1.9 in c:\\users\\user\\appdata\\local\\packages\\pythonsoftwarefoundation.python.3.11_qbz5n2kfra8p0\\localcache\\local-packages\\python311\\site-packages (from trio~=0.17->selenium) (1.10)\n",
      "Requirement already satisfied: idna in c:\\users\\user\\appdata\\local\\packages\\pythonsoftwarefoundation.python.3.11_qbz5n2kfra8p0\\localcache\\local-packages\\python311\\site-packages (from trio~=0.17->selenium) (3.4)\n",
      "Requirement already satisfied: outcome in c:\\users\\user\\appdata\\local\\packages\\pythonsoftwarefoundation.python.3.11_qbz5n2kfra8p0\\localcache\\local-packages\\python311\\site-packages (from trio~=0.17->selenium) (1.2.0)\n",
      "Requirement already satisfied: sniffio in c:\\users\\user\\appdata\\local\\packages\\pythonsoftwarefoundation.python.3.11_qbz5n2kfra8p0\\localcache\\local-packages\\python311\\site-packages (from trio~=0.17->selenium) (1.3.0)\n",
      "Requirement already satisfied: cffi>=1.14 in c:\\users\\user\\appdata\\local\\packages\\pythonsoftwarefoundation.python.3.11_qbz5n2kfra8p0\\localcache\\local-packages\\python311\\site-packages (from trio~=0.17->selenium) (1.15.1)\n",
      "Requirement already satisfied: exceptiongroup in c:\\users\\user\\appdata\\local\\packages\\pythonsoftwarefoundation.python.3.11_qbz5n2kfra8p0\\localcache\\local-packages\\python311\\site-packages (from trio-websocket~=0.9->selenium) (1.1.1)\n",
      "Requirement already satisfied: wsproto>=0.14 in c:\\users\\user\\appdata\\local\\packages\\pythonsoftwarefoundation.python.3.11_qbz5n2kfra8p0\\localcache\\local-packages\\python311\\site-packages (from trio-websocket~=0.9->selenium) (1.2.0)\n",
      "Requirement already satisfied: PySocks!=1.5.7,<2.0,>=1.5.6 in c:\\users\\user\\appdata\\local\\packages\\pythonsoftwarefoundation.python.3.11_qbz5n2kfra8p0\\localcache\\local-packages\\python311\\site-packages (from urllib3[socks]~=1.26->selenium) (1.7.1)\n",
      "Requirement already satisfied: pycparser in c:\\users\\user\\appdata\\local\\packages\\pythonsoftwarefoundation.python.3.11_qbz5n2kfra8p0\\localcache\\local-packages\\python311\\site-packages (from cffi>=1.14->trio~=0.17->selenium) (2.21)\n",
      "Requirement already satisfied: h11<1,>=0.9.0 in c:\\users\\user\\appdata\\local\\packages\\pythonsoftwarefoundation.python.3.11_qbz5n2kfra8p0\\localcache\\local-packages\\python311\\site-packages (from wsproto>=0.14->trio-websocket~=0.9->selenium) (0.14.0)\n",
      "Note: you may need to restart the kernel to use updated packages.\n"
     ]
    },
    {
     "name": "stderr",
     "output_type": "stream",
     "text": [
      "\n",
      "[notice] A new release of pip available: 22.3.1 -> 23.0.1\n",
      "[notice] To update, run: C:\\Users\\USER\\AppData\\Local\\Microsoft\\WindowsApps\\PythonSoftwareFoundation.Python.3.11_qbz5n2kfra8p0\\python.exe -m pip install --upgrade pip\n"
     ]
    }
   ],
   "source": [
    "pip install --upgrade selenium"
   ]
  },
  {
   "cell_type": "code",
   "execution_count": 3,
   "metadata": {},
   "outputs": [
    {
     "name": "stdout",
     "output_type": "stream",
     "text": [
      "Requirement already satisfied: webdriver_manager in c:\\users\\user\\appdata\\local\\packages\\pythonsoftwarefoundation.python.3.11_qbz5n2kfra8p0\\localcache\\local-packages\\python311\\site-packages (3.8.5)Note: you may need to restart the kernel to use updated packages.\n",
      "\n",
      "Requirement already satisfied: requests in c:\\users\\user\\appdata\\local\\packages\\pythonsoftwarefoundation.python.3.11_qbz5n2kfra8p0\\localcache\\local-packages\\python311\\site-packages (from webdriver_manager) (2.28.2)\n",
      "Requirement already satisfied: python-dotenv in c:\\users\\user\\appdata\\local\\packages\\pythonsoftwarefoundation.python.3.11_qbz5n2kfra8p0\\localcache\\local-packages\\python311\\site-packages (from webdriver_manager) (1.0.0)\n",
      "Requirement already satisfied: tqdm in c:\\users\\user\\appdata\\local\\packages\\pythonsoftwarefoundation.python.3.11_qbz5n2kfra8p0\\localcache\\local-packages\\python311\\site-packages (from webdriver_manager) (4.65.0)\n",
      "Requirement already satisfied: packaging in c:\\users\\user\\appdata\\local\\packages\\pythonsoftwarefoundation.python.3.11_qbz5n2kfra8p0\\localcache\\local-packages\\python311\\site-packages (from webdriver_manager) (23.0)\n",
      "Requirement already satisfied: charset-normalizer<4,>=2 in c:\\users\\user\\appdata\\local\\packages\\pythonsoftwarefoundation.python.3.11_qbz5n2kfra8p0\\localcache\\local-packages\\python311\\site-packages (from requests->webdriver_manager) (3.1.0)\n",
      "Requirement already satisfied: idna<4,>=2.5 in c:\\users\\user\\appdata\\local\\packages\\pythonsoftwarefoundation.python.3.11_qbz5n2kfra8p0\\localcache\\local-packages\\python311\\site-packages (from requests->webdriver_manager) (3.4)\n",
      "Requirement already satisfied: urllib3<1.27,>=1.21.1 in c:\\users\\user\\appdata\\local\\packages\\pythonsoftwarefoundation.python.3.11_qbz5n2kfra8p0\\localcache\\local-packages\\python311\\site-packages (from requests->webdriver_manager) (1.26.15)\n",
      "Requirement already satisfied: certifi>=2017.4.17 in c:\\users\\user\\appdata\\local\\packages\\pythonsoftwarefoundation.python.3.11_qbz5n2kfra8p0\\localcache\\local-packages\\python311\\site-packages (from requests->webdriver_manager) (2022.12.7)\n",
      "Requirement already satisfied: colorama in c:\\users\\user\\appdata\\local\\packages\\pythonsoftwarefoundation.python.3.11_qbz5n2kfra8p0\\localcache\\local-packages\\python311\\site-packages (from tqdm->webdriver_manager) (0.4.6)\n"
     ]
    },
    {
     "name": "stderr",
     "output_type": "stream",
     "text": [
      "\n",
      "[notice] A new release of pip available: 22.3.1 -> 23.0.1\n",
      "[notice] To update, run: C:\\Users\\USER\\AppData\\Local\\Microsoft\\WindowsApps\\PythonSoftwareFoundation.Python.3.11_qbz5n2kfra8p0\\python.exe -m pip install --upgrade pip\n"
     ]
    }
   ],
   "source": [
    "pip install webdriver_manager\n"
   ]
  },
  {
   "cell_type": "code",
   "execution_count": 1,
   "metadata": {},
   "outputs": [],
   "source": [
    "from selenium import webdriver\n",
    "from selenium.webdriver.chrome.options import Options\n",
    "from selenium.webdriver.common.by import By\n",
    "from selenium.webdriver.chrome.service import Service\n",
    "from webdriver_manager.chrome import ChromeDriverManager\n",
    "from selenium.webdriver import DesiredCapabilities\n",
    "from datetime import timedelta, datetime\n",
    "#estão sendo usadas\n",
    "from selenium.webdriver.support.ui import WebDriverWait\n",
    "from selenium.webdriver.support import expected_conditions as EC\n",
    "from selenium.webdriver.common.keys import Keys\n",
    "import time"
   ]
  },
  {
   "cell_type": "code",
   "execution_count": 2,
   "metadata": {},
   "outputs": [
    {
     "name": "stderr",
     "output_type": "stream",
     "text": [
      "C:\\Users\\USER\\AppData\\Local\\Temp\\ipykernel_17916\\2287794376.py:4: DeprecationWarning: headless property is deprecated, instead use add_argument('--headless') or add_argument('--headless=new')\n",
      "  op.headless = False\n"
     ]
    }
   ],
   "source": [
    "url = 'https://www.investing.com/charts/stocks-charts'\n",
    "s = Service(r'C:\\Users\\USER\\Documents\\código_investimento\\chromedriver')\n",
    "op = webdriver.ChromeOptions()\n",
    "op.headless = False\n",
    "driver = webdriver.Chrome(service=s, options=op)\n",
    "\n",
    "empresas=['KO','PG','IAU','JNJ','VOO','TAEE4','ITSA4','TRPL4','TOTS3','WEGE3','AGRO3','MCCI11','BCFF11','KISU11','XPLG11','BTAL11','MXRF11','STAG','BTC/BRL','IBOV','IFIX','USD/BRL']\n",
    "periodo=\"_04_semana 2\"\n",
    "i=0\n",
    "wait=WebDriverWait(driver, 2)\n",
    "\n",
    "# Open the site\n",
    "driver.get(url)\n",
    "WebDriverWait(driver, 5)\n",
    "\n",
    "# maximize the window\n",
    "driver.maximize_window()\n",
    "\n",
    "# scroll a little bit to prepare the screenshot\n",
    "WebDriverWait(driver, 5)\n",
    "element = wait.until(EC.visibility_of_element_located((By.XPATH, '//*[@id=\"fullColumn\"]/h1')))\n",
    "driver.execute_script(\"arguments[0].scrollIntoView();\", element)\n",
    "\n",
    "# put the conditions of the graphics that I want to analyse\n",
    "iframe = driver.find_elements(By.TAG_NAME, 'iframe')[1]\n",
    "driver.switch_to.frame(iframe)\n",
    "wait\n",
    "driver.switch_to.frame(driver.find_element(By.CSS_SELECTOR, \".no-overflow > iframe\"))\n",
    "wait\n",
    "driver.switch_to.frame(driver.find_element(By.CSS_SELECTOR, \"#tv_chart_container > iframe\"))\n",
    "wait\n",
    "# open options\n",
    "driver.find_element('xpath', '/html/body/div[1]/div[2]/div/div/div[2]/div[5]/a').click()\n",
    "wait\n",
    "driver.find_element('xpath', '/html/body/div[13]/div[2]/div[2]/div[2]/div[2]/div/div[10]/div').click()\n",
    "wait\n",
    "# RSI\n",
    "driver.find_element('xpath', '/html/body/div[13]/div[2]/div[2]/div[2]/div[2]/div/div[58]/div').click()\n",
    "wait\n",
    "driver.find_element('xpath', '/html/body/div[13]/div[2]/div[2]/div[2]/div[2]/div/div[47]/div').click()\n",
    "wait\n",
    "# Candle\n",
    "driver.find_element('xpath', '/html/body/div[1]/div[2]/div/div/div[2]/div[3]/div/div/span[1]').click()\n",
    "\n",
    "\n",
    "# take the first screenshot and prepare to put the other companies\n",
    "input_field=driver.find_element('xpath', '/html/body/div[1]/div[2]/div/div/div[2]/div[1]/div/div/div/input')\n",
    "driver.save_screenshot(f\"screenshot_AAPL{periodo}.png\")\n",
    "WebDriverWait(driver, 10)\n",
    "\n",
    "# search for the other companies\n",
    "for i in range (len(empresas)):\n",
    "    input_field.clear()\n",
    "    input_field.send_keys(empresas[i])\n",
    "    input_field.send_keys(Keys.RETURN)\n",
    "    time.sleep(3)\n",
    "    driver.save_screenshot(f\"screenshot_{empresas[i]}{periodo}.png\")\n",
    "    time.sleep(2)\n",
    "\n"
   ]
  },
  {
   "cell_type": "code",
   "execution_count": 9,
   "metadata": {},
   "outputs": [
    {
     "name": "stdout",
     "output_type": "stream",
     "text": [
      "['KO', 'PG', 'IAU', 'JNJ', 'VOO', 'TAEE4', 'ITSA4', 'TRPL4', 'TOTS3', 'WEGE3', 'AGRO3', 'MCCI11', 'BCFF11', 'KISU11', 'XPLG11', 'BTAL11', 'MXRF11', 'STAG', 'BTC/BRL', 'IBOV', 'IFIX']\n"
     ]
    }
   ],
   "source": [
    "print(empresas)"
   ]
  },
  {
   "cell_type": "code",
   "execution_count": 7,
   "metadata": {},
   "outputs": [
    {
     "name": "stderr",
     "output_type": "stream",
     "text": [
      "C:\\Users\\USER\\AppData\\Local\\Temp\\ipykernel_26708\\220419779.py:4: DeprecationWarning: headless property is deprecated, instead use add_argument('--headless') or add_argument('--headless=new')\n",
      "  op.headless = False\n"
     ]
    },
    {
     "ename": "JavascriptException",
     "evalue": "Message: javascript error: arguments[0].toDataURL is not a function\n  (Session info: chrome=112.0.5615.50)\nStacktrace:\nBacktrace:\n\tGetHandleVerifier [0x009BDCE3+50899]\n\t(No symbol) [0x0094E111]\n\t(No symbol) [0x00855588]\n\t(No symbol) [0x00857EDB]\n\t(No symbol) [0x00857DB0]\n\t(No symbol) [0x00858690]\n\t(No symbol) [0x008AE98D]\n\t(No symbol) [0x0089B8FC]\n\t(No symbol) [0x008AE01C]\n\t(No symbol) [0x0089B6F6]\n\t(No symbol) [0x00877708]\n\t(No symbol) [0x0087886D]\n\tGetHandleVerifier [0x00C23EAE+2566302]\n\tGetHandleVerifier [0x00C592B1+2784417]\n\tGetHandleVerifier [0x00C5327C+2759788]\n\tGetHandleVerifier [0x00A55740+672048]\n\t(No symbol) [0x00958872]\n\t(No symbol) [0x009541C8]\n\t(No symbol) [0x009542AB]\n\t(No symbol) [0x009471B7]\n\tBaseThreadInitThunk [0x774B00F9+25]\n\tRtlGetAppContainerNamedObjectPath [0x77BE7BBE+286]\n\tRtlGetAppContainerNamedObjectPath [0x77BE7B8E+238]\n",
     "output_type": "error",
     "traceback": [
      "\u001b[1;31m---------------------------------------------------------------------------\u001b[0m",
      "\u001b[1;31mJavascriptException\u001b[0m                       Traceback (most recent call last)",
      "Cell \u001b[1;32mIn[7], line 37\u001b[0m\n\u001b[0;32m     34\u001b[0m time\u001b[39m.\u001b[39msleep(\u001b[39m2\u001b[39m)\n\u001b[0;32m     36\u001b[0m canvas \u001b[39m=\u001b[39m driver\u001b[39m.\u001b[39mfind_element(\u001b[39m'\u001b[39m\u001b[39mxpath\u001b[39m\u001b[39m'\u001b[39m,\u001b[39m'\u001b[39m\u001b[39m/html/body/div[1]/div[1]/div/div[3]/table/tbody/tr[5]/td[3]/div\u001b[39m\u001b[39m'\u001b[39m)\n\u001b[1;32m---> 37\u001b[0m data \u001b[39m=\u001b[39m driver\u001b[39m.\u001b[39;49mexecute_script(\u001b[39m'\u001b[39;49m\u001b[39mreturn arguments[0].toDataURL();\u001b[39;49m\u001b[39m'\u001b[39;49m, canvas)\n\u001b[0;32m     39\u001b[0m \u001b[39mprint\u001b[39m(data)\n",
      "File \u001b[1;32m~\\AppData\\Local\\Packages\\PythonSoftwareFoundation.Python.3.11_qbz5n2kfra8p0\\LocalCache\\local-packages\\Python311\\site-packages\\selenium\\webdriver\\remote\\webdriver.py:500\u001b[0m, in \u001b[0;36mWebDriver.execute_script\u001b[1;34m(self, script, *args)\u001b[0m\n\u001b[0;32m    497\u001b[0m converted_args \u001b[39m=\u001b[39m \u001b[39mlist\u001b[39m(args)\n\u001b[0;32m    498\u001b[0m command \u001b[39m=\u001b[39m Command\u001b[39m.\u001b[39mW3C_EXECUTE_SCRIPT\n\u001b[1;32m--> 500\u001b[0m \u001b[39mreturn\u001b[39;00m \u001b[39mself\u001b[39;49m\u001b[39m.\u001b[39;49mexecute(command, {\u001b[39m\"\u001b[39;49m\u001b[39mscript\u001b[39;49m\u001b[39m\"\u001b[39;49m: script, \u001b[39m\"\u001b[39;49m\u001b[39margs\u001b[39;49m\u001b[39m\"\u001b[39;49m: converted_args})[\u001b[39m\"\u001b[39m\u001b[39mvalue\u001b[39m\u001b[39m\"\u001b[39m]\n",
      "File \u001b[1;32m~\\AppData\\Local\\Packages\\PythonSoftwareFoundation.Python.3.11_qbz5n2kfra8p0\\LocalCache\\local-packages\\Python311\\site-packages\\selenium\\webdriver\\remote\\webdriver.py:440\u001b[0m, in \u001b[0;36mWebDriver.execute\u001b[1;34m(self, driver_command, params)\u001b[0m\n\u001b[0;32m    438\u001b[0m response \u001b[39m=\u001b[39m \u001b[39mself\u001b[39m\u001b[39m.\u001b[39mcommand_executor\u001b[39m.\u001b[39mexecute(driver_command, params)\n\u001b[0;32m    439\u001b[0m \u001b[39mif\u001b[39;00m response:\n\u001b[1;32m--> 440\u001b[0m     \u001b[39mself\u001b[39;49m\u001b[39m.\u001b[39;49merror_handler\u001b[39m.\u001b[39;49mcheck_response(response)\n\u001b[0;32m    441\u001b[0m     response[\u001b[39m\"\u001b[39m\u001b[39mvalue\u001b[39m\u001b[39m\"\u001b[39m] \u001b[39m=\u001b[39m \u001b[39mself\u001b[39m\u001b[39m.\u001b[39m_unwrap_value(response\u001b[39m.\u001b[39mget(\u001b[39m\"\u001b[39m\u001b[39mvalue\u001b[39m\u001b[39m\"\u001b[39m, \u001b[39mNone\u001b[39;00m))\n\u001b[0;32m    442\u001b[0m     \u001b[39mreturn\u001b[39;00m response\n",
      "File \u001b[1;32m~\\AppData\\Local\\Packages\\PythonSoftwareFoundation.Python.3.11_qbz5n2kfra8p0\\LocalCache\\local-packages\\Python311\\site-packages\\selenium\\webdriver\\remote\\errorhandler.py:245\u001b[0m, in \u001b[0;36mErrorHandler.check_response\u001b[1;34m(self, response)\u001b[0m\n\u001b[0;32m    243\u001b[0m         alert_text \u001b[39m=\u001b[39m value[\u001b[39m\"\u001b[39m\u001b[39malert\u001b[39m\u001b[39m\"\u001b[39m]\u001b[39m.\u001b[39mget(\u001b[39m\"\u001b[39m\u001b[39mtext\u001b[39m\u001b[39m\"\u001b[39m)\n\u001b[0;32m    244\u001b[0m     \u001b[39mraise\u001b[39;00m exception_class(message, screen, stacktrace, alert_text)  \u001b[39m# type: ignore[call-arg]  # mypy is not smart enough here\u001b[39;00m\n\u001b[1;32m--> 245\u001b[0m \u001b[39mraise\u001b[39;00m exception_class(message, screen, stacktrace)\n",
      "\u001b[1;31mJavascriptException\u001b[0m: Message: javascript error: arguments[0].toDataURL is not a function\n  (Session info: chrome=112.0.5615.50)\nStacktrace:\nBacktrace:\n\tGetHandleVerifier [0x009BDCE3+50899]\n\t(No symbol) [0x0094E111]\n\t(No symbol) [0x00855588]\n\t(No symbol) [0x00857EDB]\n\t(No symbol) [0x00857DB0]\n\t(No symbol) [0x00858690]\n\t(No symbol) [0x008AE98D]\n\t(No symbol) [0x0089B8FC]\n\t(No symbol) [0x008AE01C]\n\t(No symbol) [0x0089B6F6]\n\t(No symbol) [0x00877708]\n\t(No symbol) [0x0087886D]\n\tGetHandleVerifier [0x00C23EAE+2566302]\n\tGetHandleVerifier [0x00C592B1+2784417]\n\tGetHandleVerifier [0x00C5327C+2759788]\n\tGetHandleVerifier [0x00A55740+672048]\n\t(No symbol) [0x00958872]\n\t(No symbol) [0x009541C8]\n\t(No symbol) [0x009542AB]\n\t(No symbol) [0x009471B7]\n\tBaseThreadInitThunk [0x774B00F9+25]\n\tRtlGetAppContainerNamedObjectPath [0x77BE7BBE+286]\n\tRtlGetAppContainerNamedObjectPath [0x77BE7B8E+238]\n"
     ]
    }
   ],
   "source": [
    "url = 'https://www.investing.com/charts/stocks-charts'\n",
    "s = Service(r'C:\\Users\\USER\\Documents\\código_investimento\\chromedriver')\n",
    "op = webdriver.ChromeOptions()\n",
    "op.headless = False\n",
    "driver = webdriver.Chrome(service=s, options=op)\n",
    "\n",
    "wait=WebDriverWait(driver, 2)\n",
    "\n",
    "# Open the site\n",
    "driver.get(url)\n",
    "WebDriverWait(driver, 5)\n",
    "\n",
    "# maximize the window\n",
    "driver.maximize_window()\n",
    "\n",
    "# scroll a little bit to prepare the screenshot\n",
    "WebDriverWait(driver, 5)\n",
    "element = wait.until(EC.visibility_of_element_located((By.XPATH, '//*[@id=\"fullColumn\"]/h1')))\n",
    "driver.execute_script(\"arguments[0].scrollIntoView();\", element)\n",
    "\n",
    "# put the conditions of the graphics that I want to analyse\n",
    "iframe = driver.find_elements(By.TAG_NAME, 'iframe')[1]\n",
    "driver.switch_to.frame(iframe)\n",
    "wait\n",
    "driver.switch_to.frame(driver.find_element(By.CSS_SELECTOR, \".no-overflow > iframe\"))\n",
    "wait\n",
    "driver.switch_to.frame(driver.find_element(By.CSS_SELECTOR, \"#tv_chart_container > iframe\"))\n",
    "wait\n",
    "# open options\n",
    "driver.find_element('xpath', '/html/body/div[1]/div[2]/div/div/div[2]/div[5]/a').click()\n",
    "wait\n",
    "driver.find_element('xpath', '/html/body/div[13]/div[2]/div[2]/div[2]/div[2]/div/div[58]/div').click()\n",
    "driver.find_element('xpath', '/html/body/div[1]/div[2]/div/div/div[2]/div[3]/div/div/span[1]').click()\n",
    "time.sleep(2)\n",
    "\n",
    "canvas = driver.find_element('xpath','/html/body/div[1]/div[1]/div/div[3]/table/tbody/tr[5]/td[3]/div')\n",
    "data = driver.execute_script('return arguments[0].toDataURL();', canvas)\n",
    "\n",
    "print(data)"
   ]
  }
 ],
 "metadata": {
  "kernelspec": {
   "display_name": "Python 3",
   "language": "python",
   "name": "python3"
  },
  "language_info": {
   "codemirror_mode": {
    "name": "ipython",
    "version": 3
   },
   "file_extension": ".py",
   "mimetype": "text/x-python",
   "name": "python",
   "nbconvert_exporter": "python",
   "pygments_lexer": "ipython3",
   "version": "3.11.3"
  },
  "orig_nbformat": 4
 },
 "nbformat": 4,
 "nbformat_minor": 2
}
